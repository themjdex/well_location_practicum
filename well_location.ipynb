{
 "cells": [
  {
   "cell_type": "markdown",
   "metadata": {},
   "source": [
    "# Выбор локации для скважины"
   ]
  },
  {
   "cell_type": "markdown",
   "metadata": {},
   "source": [
    "Допустим, вы работаете в добывающей компании «ГлавРосГосНефть». Нужно решить, где бурить новую скважину.\n",
    "\n",
    "Вам предоставлены пробы нефти в трёх регионах: в каждом 10 000 месторождений, где измерили качество нефти и объём её запасов. Постройте модель машинного обучения, которая поможет определить регион, где добыча принесёт наибольшую прибыль. Проанализируйте возможную прибыль и риски техникой *Bootstrap.*\n",
    "\n",
    "Шаги для выбора локации:\n",
    "\n",
    "- В избранном регионе ищут месторождения, для каждого определяют значения признаков;\n",
    "- Строят модель и оценивают объём запасов;\n",
    "- Выбирают месторождения с самым высокими оценками значений. Количество месторождений зависит от бюджета компании и стоимости разработки одной скважины;\n",
    "- Прибыль равна суммарной прибыли отобранных месторождений."
   ]
  },
  {
   "cell_type": "markdown",
   "metadata": {},
   "source": [
    "## Загрузка и подготовка данных"
   ]
  },
  {
   "cell_type": "markdown",
   "metadata": {},
   "source": [
    "### Знакомство и проверка данных"
   ]
  },
  {
   "cell_type": "code",
   "execution_count": 1,
   "metadata": {},
   "outputs": [],
   "source": [
    "import pandas as pd\n",
    "import seaborn as sns\n",
    "\n",
    "from sklearn.linear_model import LinearRegression\n",
    "from sklearn.preprocessing import StandardScaler\n",
    "from sklearn.model_selection import train_test_split\n",
    "from sklearn.metrics import mean_squared_error, r2_score\n",
    "from numpy.random import RandomState"
   ]
  },
  {
   "cell_type": "code",
   "execution_count": 2,
   "metadata": {},
   "outputs": [],
   "source": [
    "try:\n",
    "    data_0 = pd.read_csv('/datasets/geo_data_0.csv')\n",
    "    data_1 = pd.read_csv('/datasets/geo_data_1.csv')\n",
    "    data_2 = pd.read_csv('/datasets/geo_data_2.csv')\n",
    "except:\n",
    "    raise Exception('Something is wrong. Check the files')"
   ]
  },
  {
   "cell_type": "code",
   "execution_count": 3,
   "metadata": {},
   "outputs": [
    {
     "data": {
      "text/html": [
       "<div>\n",
       "<style scoped>\n",
       "    .dataframe tbody tr th:only-of-type {\n",
       "        vertical-align: middle;\n",
       "    }\n",
       "\n",
       "    .dataframe tbody tr th {\n",
       "        vertical-align: top;\n",
       "    }\n",
       "\n",
       "    .dataframe thead th {\n",
       "        text-align: right;\n",
       "    }\n",
       "</style>\n",
       "<table border=\"1\" class=\"dataframe\">\n",
       "  <thead>\n",
       "    <tr style=\"text-align: right;\">\n",
       "      <th></th>\n",
       "      <th>id</th>\n",
       "      <th>f0</th>\n",
       "      <th>f1</th>\n",
       "      <th>f2</th>\n",
       "      <th>product</th>\n",
       "    </tr>\n",
       "  </thead>\n",
       "  <tbody>\n",
       "    <tr>\n",
       "      <th>0</th>\n",
       "      <td>txEyH</td>\n",
       "      <td>0.705745</td>\n",
       "      <td>-0.497823</td>\n",
       "      <td>1.221170</td>\n",
       "      <td>105.280062</td>\n",
       "    </tr>\n",
       "    <tr>\n",
       "      <th>1</th>\n",
       "      <td>2acmU</td>\n",
       "      <td>1.334711</td>\n",
       "      <td>-0.340164</td>\n",
       "      <td>4.365080</td>\n",
       "      <td>73.037750</td>\n",
       "    </tr>\n",
       "    <tr>\n",
       "      <th>2</th>\n",
       "      <td>409Wp</td>\n",
       "      <td>1.022732</td>\n",
       "      <td>0.151990</td>\n",
       "      <td>1.419926</td>\n",
       "      <td>85.265647</td>\n",
       "    </tr>\n",
       "    <tr>\n",
       "      <th>3</th>\n",
       "      <td>iJLyR</td>\n",
       "      <td>-0.032172</td>\n",
       "      <td>0.139033</td>\n",
       "      <td>2.978566</td>\n",
       "      <td>168.620776</td>\n",
       "    </tr>\n",
       "    <tr>\n",
       "      <th>4</th>\n",
       "      <td>Xdl7t</td>\n",
       "      <td>1.988431</td>\n",
       "      <td>0.155413</td>\n",
       "      <td>4.751769</td>\n",
       "      <td>154.036647</td>\n",
       "    </tr>\n",
       "  </tbody>\n",
       "</table>\n",
       "</div>"
      ],
      "text/plain": [
       "      id        f0        f1        f2     product\n",
       "0  txEyH  0.705745 -0.497823  1.221170  105.280062\n",
       "1  2acmU  1.334711 -0.340164  4.365080   73.037750\n",
       "2  409Wp  1.022732  0.151990  1.419926   85.265647\n",
       "3  iJLyR -0.032172  0.139033  2.978566  168.620776\n",
       "4  Xdl7t  1.988431  0.155413  4.751769  154.036647"
      ]
     },
     "execution_count": 3,
     "metadata": {},
     "output_type": "execute_result"
    }
   ],
   "source": [
    "# Посмотрим на полученные данные\n",
    "data_0.head()"
   ]
  },
  {
   "cell_type": "code",
   "execution_count": 4,
   "metadata": {},
   "outputs": [
    {
     "data": {
      "text/html": [
       "<div>\n",
       "<style scoped>\n",
       "    .dataframe tbody tr th:only-of-type {\n",
       "        vertical-align: middle;\n",
       "    }\n",
       "\n",
       "    .dataframe tbody tr th {\n",
       "        vertical-align: top;\n",
       "    }\n",
       "\n",
       "    .dataframe thead th {\n",
       "        text-align: right;\n",
       "    }\n",
       "</style>\n",
       "<table border=\"1\" class=\"dataframe\">\n",
       "  <thead>\n",
       "    <tr style=\"text-align: right;\">\n",
       "      <th></th>\n",
       "      <th>id</th>\n",
       "      <th>f0</th>\n",
       "      <th>f1</th>\n",
       "      <th>f2</th>\n",
       "      <th>product</th>\n",
       "    </tr>\n",
       "  </thead>\n",
       "  <tbody>\n",
       "    <tr>\n",
       "      <th>0</th>\n",
       "      <td>kBEdx</td>\n",
       "      <td>-15.001348</td>\n",
       "      <td>-8.276000</td>\n",
       "      <td>-0.005876</td>\n",
       "      <td>3.179103</td>\n",
       "    </tr>\n",
       "    <tr>\n",
       "      <th>1</th>\n",
       "      <td>62mP7</td>\n",
       "      <td>14.272088</td>\n",
       "      <td>-3.475083</td>\n",
       "      <td>0.999183</td>\n",
       "      <td>26.953261</td>\n",
       "    </tr>\n",
       "    <tr>\n",
       "      <th>2</th>\n",
       "      <td>vyE1P</td>\n",
       "      <td>6.263187</td>\n",
       "      <td>-5.948386</td>\n",
       "      <td>5.001160</td>\n",
       "      <td>134.766305</td>\n",
       "    </tr>\n",
       "    <tr>\n",
       "      <th>3</th>\n",
       "      <td>KcrkZ</td>\n",
       "      <td>-13.081196</td>\n",
       "      <td>-11.506057</td>\n",
       "      <td>4.999415</td>\n",
       "      <td>137.945408</td>\n",
       "    </tr>\n",
       "    <tr>\n",
       "      <th>4</th>\n",
       "      <td>AHL4O</td>\n",
       "      <td>12.702195</td>\n",
       "      <td>-8.147433</td>\n",
       "      <td>5.004363</td>\n",
       "      <td>134.766305</td>\n",
       "    </tr>\n",
       "  </tbody>\n",
       "</table>\n",
       "</div>"
      ],
      "text/plain": [
       "      id         f0         f1        f2     product\n",
       "0  kBEdx -15.001348  -8.276000 -0.005876    3.179103\n",
       "1  62mP7  14.272088  -3.475083  0.999183   26.953261\n",
       "2  vyE1P   6.263187  -5.948386  5.001160  134.766305\n",
       "3  KcrkZ -13.081196 -11.506057  4.999415  137.945408\n",
       "4  AHL4O  12.702195  -8.147433  5.004363  134.766305"
      ]
     },
     "execution_count": 4,
     "metadata": {},
     "output_type": "execute_result"
    }
   ],
   "source": [
    "data_1.head()"
   ]
  },
  {
   "cell_type": "code",
   "execution_count": 5,
   "metadata": {},
   "outputs": [
    {
     "data": {
      "text/html": [
       "<div>\n",
       "<style scoped>\n",
       "    .dataframe tbody tr th:only-of-type {\n",
       "        vertical-align: middle;\n",
       "    }\n",
       "\n",
       "    .dataframe tbody tr th {\n",
       "        vertical-align: top;\n",
       "    }\n",
       "\n",
       "    .dataframe thead th {\n",
       "        text-align: right;\n",
       "    }\n",
       "</style>\n",
       "<table border=\"1\" class=\"dataframe\">\n",
       "  <thead>\n",
       "    <tr style=\"text-align: right;\">\n",
       "      <th></th>\n",
       "      <th>id</th>\n",
       "      <th>f0</th>\n",
       "      <th>f1</th>\n",
       "      <th>f2</th>\n",
       "      <th>product</th>\n",
       "    </tr>\n",
       "  </thead>\n",
       "  <tbody>\n",
       "    <tr>\n",
       "      <th>0</th>\n",
       "      <td>fwXo0</td>\n",
       "      <td>-1.146987</td>\n",
       "      <td>0.963328</td>\n",
       "      <td>-0.828965</td>\n",
       "      <td>27.758673</td>\n",
       "    </tr>\n",
       "    <tr>\n",
       "      <th>1</th>\n",
       "      <td>WJtFt</td>\n",
       "      <td>0.262778</td>\n",
       "      <td>0.269839</td>\n",
       "      <td>-2.530187</td>\n",
       "      <td>56.069697</td>\n",
       "    </tr>\n",
       "    <tr>\n",
       "      <th>2</th>\n",
       "      <td>ovLUW</td>\n",
       "      <td>0.194587</td>\n",
       "      <td>0.289035</td>\n",
       "      <td>-5.586433</td>\n",
       "      <td>62.871910</td>\n",
       "    </tr>\n",
       "    <tr>\n",
       "      <th>3</th>\n",
       "      <td>q6cA6</td>\n",
       "      <td>2.236060</td>\n",
       "      <td>-0.553760</td>\n",
       "      <td>0.930038</td>\n",
       "      <td>114.572842</td>\n",
       "    </tr>\n",
       "    <tr>\n",
       "      <th>4</th>\n",
       "      <td>WPMUX</td>\n",
       "      <td>-0.515993</td>\n",
       "      <td>1.716266</td>\n",
       "      <td>5.899011</td>\n",
       "      <td>149.600746</td>\n",
       "    </tr>\n",
       "  </tbody>\n",
       "</table>\n",
       "</div>"
      ],
      "text/plain": [
       "      id        f0        f1        f2     product\n",
       "0  fwXo0 -1.146987  0.963328 -0.828965   27.758673\n",
       "1  WJtFt  0.262778  0.269839 -2.530187   56.069697\n",
       "2  ovLUW  0.194587  0.289035 -5.586433   62.871910\n",
       "3  q6cA6  2.236060 -0.553760  0.930038  114.572842\n",
       "4  WPMUX -0.515993  1.716266  5.899011  149.600746"
      ]
     },
     "execution_count": 5,
     "metadata": {},
     "output_type": "execute_result"
    }
   ],
   "source": [
    "data_2.head()"
   ]
  },
  {
   "cell_type": "markdown",
   "metadata": {},
   "source": [
    "Мы имеем три датасета из трех регионов. Каждый фрейм содержит следующие данные:\n",
    "- **id** — уникальный идентификатор скважины;\n",
    "- **f0**, **f1**, **f2** — три признака точек;\n",
    "- **product** — объём запасов в скважине (тыс. баррелей).\n",
    "\n",
    "Посмотрим на информацию по датафреймам."
   ]
  },
  {
   "cell_type": "code",
   "execution_count": 6,
   "metadata": {},
   "outputs": [
    {
     "name": "stdout",
     "output_type": "stream",
     "text": [
      "<class 'pandas.core.frame.DataFrame'>\n",
      "RangeIndex: 100000 entries, 0 to 99999\n",
      "Data columns (total 5 columns):\n",
      " #   Column   Non-Null Count   Dtype  \n",
      "---  ------   --------------   -----  \n",
      " 0   id       100000 non-null  object \n",
      " 1   f0       100000 non-null  float64\n",
      " 2   f1       100000 non-null  float64\n",
      " 3   f2       100000 non-null  float64\n",
      " 4   product  100000 non-null  float64\n",
      "dtypes: float64(4), object(1)\n",
      "memory usage: 3.8+ MB\n"
     ]
    }
   ],
   "source": [
    "data_0.info()"
   ]
  },
  {
   "cell_type": "code",
   "execution_count": 7,
   "metadata": {},
   "outputs": [
    {
     "name": "stdout",
     "output_type": "stream",
     "text": [
      "<class 'pandas.core.frame.DataFrame'>\n",
      "RangeIndex: 100000 entries, 0 to 99999\n",
      "Data columns (total 5 columns):\n",
      " #   Column   Non-Null Count   Dtype  \n",
      "---  ------   --------------   -----  \n",
      " 0   id       100000 non-null  object \n",
      " 1   f0       100000 non-null  float64\n",
      " 2   f1       100000 non-null  float64\n",
      " 3   f2       100000 non-null  float64\n",
      " 4   product  100000 non-null  float64\n",
      "dtypes: float64(4), object(1)\n",
      "memory usage: 3.8+ MB\n"
     ]
    }
   ],
   "source": [
    "data_1.info()"
   ]
  },
  {
   "cell_type": "code",
   "execution_count": 8,
   "metadata": {},
   "outputs": [
    {
     "name": "stdout",
     "output_type": "stream",
     "text": [
      "<class 'pandas.core.frame.DataFrame'>\n",
      "RangeIndex: 100000 entries, 0 to 99999\n",
      "Data columns (total 5 columns):\n",
      " #   Column   Non-Null Count   Dtype  \n",
      "---  ------   --------------   -----  \n",
      " 0   id       100000 non-null  object \n",
      " 1   f0       100000 non-null  float64\n",
      " 2   f1       100000 non-null  float64\n",
      " 3   f2       100000 non-null  float64\n",
      " 4   product  100000 non-null  float64\n",
      "dtypes: float64(4), object(1)\n",
      "memory usage: 3.8+ MB\n"
     ]
    }
   ],
   "source": [
    "data_2.info()"
   ]
  },
  {
   "cell_type": "code",
   "execution_count": 9,
   "metadata": {},
   "outputs": [
    {
     "name": "stdout",
     "output_type": "stream",
     "text": [
      "0\n",
      "0\n",
      "0\n"
     ]
    }
   ],
   "source": [
    "# заодно проверим возможное наличие явных дубликатов\n",
    "datasets = [data_0, data_1, data_2]\n",
    "for ds in datasets:\n",
    "    print(ds.duplicated().sum())"
   ]
  },
  {
   "cell_type": "markdown",
   "metadata": {},
   "source": [
    "Каждый набор данных имеет по 100000 строк без дубликатов и пропусков."
   ]
  },
  {
   "cell_type": "code",
   "execution_count": 10,
   "metadata": {},
   "outputs": [
    {
     "data": {
      "text/html": [
       "<div>\n",
       "<style scoped>\n",
       "    .dataframe tbody tr th:only-of-type {\n",
       "        vertical-align: middle;\n",
       "    }\n",
       "\n",
       "    .dataframe tbody tr th {\n",
       "        vertical-align: top;\n",
       "    }\n",
       "\n",
       "    .dataframe thead th {\n",
       "        text-align: right;\n",
       "    }\n",
       "</style>\n",
       "<table border=\"1\" class=\"dataframe\">\n",
       "  <thead>\n",
       "    <tr style=\"text-align: right;\">\n",
       "      <th></th>\n",
       "      <th>f0</th>\n",
       "      <th>f1</th>\n",
       "      <th>f2</th>\n",
       "    </tr>\n",
       "  </thead>\n",
       "  <tbody>\n",
       "    <tr>\n",
       "      <th>f0</th>\n",
       "      <td>1.000000</td>\n",
       "      <td>-0.440723</td>\n",
       "      <td>-0.003153</td>\n",
       "    </tr>\n",
       "    <tr>\n",
       "      <th>f1</th>\n",
       "      <td>-0.440723</td>\n",
       "      <td>1.000000</td>\n",
       "      <td>0.001724</td>\n",
       "    </tr>\n",
       "    <tr>\n",
       "      <th>f2</th>\n",
       "      <td>-0.003153</td>\n",
       "      <td>0.001724</td>\n",
       "      <td>1.000000</td>\n",
       "    </tr>\n",
       "  </tbody>\n",
       "</table>\n",
       "</div>"
      ],
      "text/plain": [
       "          f0        f1        f2\n",
       "f0  1.000000 -0.440723 -0.003153\n",
       "f1 -0.440723  1.000000  0.001724\n",
       "f2 -0.003153  0.001724  1.000000"
      ]
     },
     "execution_count": 10,
     "metadata": {},
     "output_type": "execute_result"
    }
   ],
   "source": [
    "data_0[['f0', 'f1', 'f2']].corr()"
   ]
  },
  {
   "cell_type": "markdown",
   "metadata": {},
   "source": [
    "В первом датафрейме выделяется только отрицательная корреляция между f0 и f1, но остается в пределах умеренной."
   ]
  },
  {
   "cell_type": "code",
   "execution_count": 11,
   "metadata": {},
   "outputs": [
    {
     "data": {
      "text/html": [
       "<div>\n",
       "<style scoped>\n",
       "    .dataframe tbody tr th:only-of-type {\n",
       "        vertical-align: middle;\n",
       "    }\n",
       "\n",
       "    .dataframe tbody tr th {\n",
       "        vertical-align: top;\n",
       "    }\n",
       "\n",
       "    .dataframe thead th {\n",
       "        text-align: right;\n",
       "    }\n",
       "</style>\n",
       "<table border=\"1\" class=\"dataframe\">\n",
       "  <thead>\n",
       "    <tr style=\"text-align: right;\">\n",
       "      <th></th>\n",
       "      <th>f0</th>\n",
       "      <th>f1</th>\n",
       "      <th>f2</th>\n",
       "    </tr>\n",
       "  </thead>\n",
       "  <tbody>\n",
       "    <tr>\n",
       "      <th>f0</th>\n",
       "      <td>1.000000</td>\n",
       "      <td>0.182287</td>\n",
       "      <td>-0.001777</td>\n",
       "    </tr>\n",
       "    <tr>\n",
       "      <th>f1</th>\n",
       "      <td>0.182287</td>\n",
       "      <td>1.000000</td>\n",
       "      <td>-0.002595</td>\n",
       "    </tr>\n",
       "    <tr>\n",
       "      <th>f2</th>\n",
       "      <td>-0.001777</td>\n",
       "      <td>-0.002595</td>\n",
       "      <td>1.000000</td>\n",
       "    </tr>\n",
       "  </tbody>\n",
       "</table>\n",
       "</div>"
      ],
      "text/plain": [
       "          f0        f1        f2\n",
       "f0  1.000000  0.182287 -0.001777\n",
       "f1  0.182287  1.000000 -0.002595\n",
       "f2 -0.001777 -0.002595  1.000000"
      ]
     },
     "execution_count": 11,
     "metadata": {},
     "output_type": "execute_result"
    }
   ],
   "source": [
    "data_1[['f0', 'f1', 'f2']].corr()"
   ]
  },
  {
   "cell_type": "markdown",
   "metadata": {},
   "source": [
    "Во втором датафрейме корреляция между теми же показателями слабая."
   ]
  },
  {
   "cell_type": "code",
   "execution_count": 12,
   "metadata": {},
   "outputs": [
    {
     "data": {
      "text/html": [
       "<div>\n",
       "<style scoped>\n",
       "    .dataframe tbody tr th:only-of-type {\n",
       "        vertical-align: middle;\n",
       "    }\n",
       "\n",
       "    .dataframe tbody tr th {\n",
       "        vertical-align: top;\n",
       "    }\n",
       "\n",
       "    .dataframe thead th {\n",
       "        text-align: right;\n",
       "    }\n",
       "</style>\n",
       "<table border=\"1\" class=\"dataframe\">\n",
       "  <thead>\n",
       "    <tr style=\"text-align: right;\">\n",
       "      <th></th>\n",
       "      <th>f0</th>\n",
       "      <th>f1</th>\n",
       "      <th>f2</th>\n",
       "    </tr>\n",
       "  </thead>\n",
       "  <tbody>\n",
       "    <tr>\n",
       "      <th>f0</th>\n",
       "      <td>1.000000</td>\n",
       "      <td>0.000528</td>\n",
       "      <td>-0.000448</td>\n",
       "    </tr>\n",
       "    <tr>\n",
       "      <th>f1</th>\n",
       "      <td>0.000528</td>\n",
       "      <td>1.000000</td>\n",
       "      <td>0.000779</td>\n",
       "    </tr>\n",
       "    <tr>\n",
       "      <th>f2</th>\n",
       "      <td>-0.000448</td>\n",
       "      <td>0.000779</td>\n",
       "      <td>1.000000</td>\n",
       "    </tr>\n",
       "  </tbody>\n",
       "</table>\n",
       "</div>"
      ],
      "text/plain": [
       "          f0        f1        f2\n",
       "f0  1.000000  0.000528 -0.000448\n",
       "f1  0.000528  1.000000  0.000779\n",
       "f2 -0.000448  0.000779  1.000000"
      ]
     },
     "execution_count": 12,
     "metadata": {},
     "output_type": "execute_result"
    }
   ],
   "source": [
    "data_2[['f0', 'f1', 'f2']].corr()"
   ]
  },
  {
   "cell_type": "markdown",
   "metadata": {},
   "source": [
    "В третьем датафрейме корреляция практически отсутствует."
   ]
  },
  {
   "cell_type": "markdown",
   "metadata": {},
   "source": [
    "### Подготовка данных"
   ]
  },
  {
   "cell_type": "markdown",
   "metadata": {},
   "source": [
    "В рамках исследования мы будем строить модели, предсказывающие объем запасов в скважинах, то есть находить количественное значение. Для этого будем использовать линейную регрессию. Все нужные нам признаки уже численные, и есть только один категориальный, а именно *id*. Так как это лишь уникальный идентификатор скважины, то его мы не будем использовать для обучения модели, он не несет полезной информации именно о скважине. Кодировать категориальные признаки необходимости нет, поэтому взглянем, требуется ли масштабирование числовых признаков."
   ]
  },
  {
   "cell_type": "code",
   "execution_count": 13,
   "metadata": {
    "scrolled": false
   },
   "outputs": [
    {
     "name": "stdout",
     "output_type": "stream",
     "text": [
      "Признак f0 имеет минимум -1.408605306026996 и максимум 2.362330810854224\n",
      "Признак f1 имеет минимум -0.8482184970082173 и максимум 1.343769333804496\n",
      "Признак f2 имеет минимум -12.08832811806336 и максимум 16.003790007695365\n",
      "Признак f0 имеет минимум -31.609576019167687 и максимум 29.42175461390372\n",
      "Признак f1 имеет минимум -26.358598008345872 и максимум 18.73406263373076\n",
      "Признак f2 имеет минимум -0.0181440867134202 и максимум 5.019720555223062\n",
      "Признак f0 имеет минимум -8.760003624213763 и максимум 7.23826247979405\n",
      "Признак f1 имеет минимум -7.084019760867246 и максимум 7.844801270084258\n",
      "Признак f2 имеет минимум -11.97033454147699 и максимум 16.73940205869952\n"
     ]
    }
   ],
   "source": [
    "# сохраним список признаков\n",
    "features_list = ['f0', 'f1', 'f2']\n",
    "\n",
    "# проверим размах значений в каждом датафрейме\n",
    "for i in datasets:\n",
    "    for j in features_list:\n",
    "        print(f'Признак {j} имеет минимум {i[j].min()} и максимум {i[j].max()}')"
   ]
  },
  {
   "cell_type": "markdown",
   "metadata": {},
   "source": [
    "Видим, что значения не укладываются в один масштаб, поэтому будет лучше провести трансформацию при помощи StandardScaler, но сначала разделим данные на обучающую и валидационную выборки в соотношении 75:25."
   ]
  },
  {
   "cell_type": "code",
   "execution_count": 14,
   "metadata": {},
   "outputs": [],
   "source": [
    "# обозначим единый рандом для всей работы\n",
    "RANDOM_STATE = 999"
   ]
  },
  {
   "cell_type": "code",
   "execution_count": 15,
   "metadata": {},
   "outputs": [],
   "source": [
    "# напишем функцию для разделения признаков\n",
    "def split_features(df):\n",
    "    features = df.drop(['product', 'id'], axis=1)\n",
    "    target = df['product']\n",
    "    return features, target"
   ]
  },
  {
   "cell_type": "code",
   "execution_count": 16,
   "metadata": {},
   "outputs": [],
   "source": [
    "# разделим признаки\n",
    "features_0, target_0 = split_features(data_0)\n",
    "features_1, target_1 = split_features(data_1)\n",
    "features_2, target_2 = split_features(data_2)"
   ]
  },
  {
   "cell_type": "code",
   "execution_count": 17,
   "metadata": {},
   "outputs": [],
   "source": [
    "# разбиваем на обучающую и валидационную выборки\n",
    "features_train_0, features_valid_0, target_train_0, target_valid_0 = train_test_split(\n",
    "    features_0, target_0, test_size=0.25, random_state=RANDOM_STATE\n",
    ")\n",
    "\n",
    "features_train_1, features_valid_1, target_train_1, target_valid_1 = train_test_split(\n",
    "    features_1, target_1, test_size=0.25, random_state=RANDOM_STATE\n",
    ")\n",
    "\n",
    "features_train_2, features_valid_2, target_train_2, target_valid_2 = train_test_split(\n",
    "    features_2, target_2, test_size=0.25, random_state=RANDOM_STATE\n",
    ")"
   ]
  },
  {
   "cell_type": "code",
   "execution_count": 18,
   "metadata": {},
   "outputs": [
    {
     "name": "stdout",
     "output_type": "stream",
     "text": [
      "(75000, 3)\n",
      "(25000, 3)\n",
      "(75000,)\n",
      "(25000,)\n"
     ]
    }
   ],
   "source": [
    "# проверяем результат на одном разбиении\n",
    "print(features_train_0.shape)\n",
    "print(features_valid_0.shape)\n",
    "print(target_train_0.shape)\n",
    "print(target_valid_0.shape)"
   ]
  },
  {
   "cell_type": "code",
   "execution_count": 19,
   "metadata": {},
   "outputs": [],
   "source": [
    "# создаем экземпляр скейлера\n",
    "scaler = StandardScaler()"
   ]
  },
  {
   "cell_type": "code",
   "execution_count": 20,
   "metadata": {},
   "outputs": [],
   "source": [
    "# опишем функцию преобразования признаков для всех регионов\n",
    "def scale(features, valid):\n",
    "    scaler.fit(features)\n",
    "    features = scaler.transform(features)\n",
    "    valid = scaler.transform(valid)\n",
    "    return pd.DataFrame(features), pd.DataFrame(valid)"
   ]
  },
  {
   "cell_type": "code",
   "execution_count": 21,
   "metadata": {},
   "outputs": [],
   "source": [
    "# преобразуем данные для всех выборок\n",
    "features_train_0, features_valid_0 = scale(features_train_0, features_valid_0)\n",
    "features_train_1, features_valid_1 = scale(features_train_1, features_valid_1)\n",
    "features_train_2, features_valid_2 = scale(features_train_2, features_valid_2)"
   ]
  },
  {
   "cell_type": "code",
   "execution_count": 22,
   "metadata": {},
   "outputs": [
    {
     "data": {
      "text/html": [
       "<div>\n",
       "<style scoped>\n",
       "    .dataframe tbody tr th:only-of-type {\n",
       "        vertical-align: middle;\n",
       "    }\n",
       "\n",
       "    .dataframe tbody tr th {\n",
       "        vertical-align: top;\n",
       "    }\n",
       "\n",
       "    .dataframe thead th {\n",
       "        text-align: right;\n",
       "    }\n",
       "</style>\n",
       "<table border=\"1\" class=\"dataframe\">\n",
       "  <thead>\n",
       "    <tr style=\"text-align: right;\">\n",
       "      <th></th>\n",
       "      <th>0</th>\n",
       "      <th>1</th>\n",
       "      <th>2</th>\n",
       "    </tr>\n",
       "  </thead>\n",
       "  <tbody>\n",
       "    <tr>\n",
       "      <th>0</th>\n",
       "      <td>0.223888</td>\n",
       "      <td>-1.115708</td>\n",
       "      <td>1.946846</td>\n",
       "    </tr>\n",
       "    <tr>\n",
       "      <th>1</th>\n",
       "      <td>-0.513837</td>\n",
       "      <td>0.209848</td>\n",
       "      <td>1.573385</td>\n",
       "    </tr>\n",
       "    <tr>\n",
       "      <th>2</th>\n",
       "      <td>-0.403147</td>\n",
       "      <td>0.310253</td>\n",
       "      <td>0.109633</td>\n",
       "    </tr>\n",
       "    <tr>\n",
       "      <th>3</th>\n",
       "      <td>1.038636</td>\n",
       "      <td>-1.411883</td>\n",
       "      <td>0.251348</td>\n",
       "    </tr>\n",
       "    <tr>\n",
       "      <th>4</th>\n",
       "      <td>-1.777952</td>\n",
       "      <td>0.029269</td>\n",
       "      <td>-0.633705</td>\n",
       "    </tr>\n",
       "  </tbody>\n",
       "</table>\n",
       "</div>"
      ],
      "text/plain": [
       "          0         1         2\n",
       "0  0.223888 -1.115708  1.946846\n",
       "1 -0.513837  0.209848  1.573385\n",
       "2 -0.403147  0.310253  0.109633\n",
       "3  1.038636 -1.411883  0.251348\n",
       "4 -1.777952  0.029269 -0.633705"
      ]
     },
     "execution_count": 22,
     "metadata": {},
     "output_type": "execute_result"
    }
   ],
   "source": [
    "# проверим один пример\n",
    "features_train_0.head()"
   ]
  },
  {
   "cell_type": "markdown",
   "metadata": {},
   "source": [
    "Здесь мы заканчиваем с предобработкой данных и переходим к обучению моделей."
   ]
  },
  {
   "cell_type": "markdown",
   "metadata": {},
   "source": [
    "## Обучение и проверка модели"
   ]
  },
  {
   "cell_type": "markdown",
   "metadata": {},
   "source": [
    "На этом этапе нам нужно обучить модель для каждого региона и получить предсказанные ответы. Дополнительно высчитываем RMSE, средний запас предсказанного сырья и метрику R2."
   ]
  },
  {
   "cell_type": "code",
   "execution_count": 23,
   "metadata": {},
   "outputs": [],
   "source": [
    "# создаем экземляр модели\n",
    "model = LinearRegression()"
   ]
  },
  {
   "cell_type": "code",
   "execution_count": 24,
   "metadata": {},
   "outputs": [],
   "source": [
    "# запишем функцию для обучения для каждого региона\n",
    "def train_model(features_train, target_train, features_valid, target_valid): \n",
    "    model.fit(features_train, target_train)\n",
    "    predicted_valid = model.predict(features_valid)\n",
    "    rmse = mean_squared_error(target_valid, predicted_valid, squared=False)\n",
    "    r2 = r2_score(target_valid, predicted_valid)\n",
    "    mean_predict_valid = predicted_valid.mean()\n",
    "    return predicted_valid, mean_predict_valid, rmse, r2"
   ]
  },
  {
   "cell_type": "code",
   "execution_count": 25,
   "metadata": {},
   "outputs": [],
   "source": [
    "# обучим три модели\n",
    "predicted_valid_0, mean_predict_valid_0, rmse_0, r2_0 = train_model(\n",
    "    features_train_0, target_train_0, features_valid_0, target_valid_0)\n",
    "\n",
    "predicted_valid_1, mean_predict_valid_1, rmse_1, r2_1 = train_model(\n",
    "    features_train_1, target_train_1, features_valid_1, target_valid_1)\n",
    "\n",
    "predicted_valid_2, mean_predict_valid_2, rmse_2, r2_2 = train_model(\n",
    "    features_train_2, target_train_2, features_valid_2, target_valid_2)"
   ]
  },
  {
   "cell_type": "code",
   "execution_count": 26,
   "metadata": {},
   "outputs": [
    {
     "name": "stdout",
     "output_type": "stream",
     "text": [
      "Среднее значение предсказанных запасов в 1 регионе: 92.53481054203547, RMSE: 37.73025860379069, R2: 0.27937135066413776\n",
      "Среднее значение предсказанных запасов в 2 регионе: 68.86449441788326, RMSE: 0.8865534226245153, R2: 0.9996275390211119\n",
      "Среднее значение предсказанных запасов в 3 регионе: 95.12772725874514, RMSE: 40.16077130943588, R2: 0.19650958156287912\n"
     ]
    }
   ],
   "source": [
    "# выведем промежуточные результаты\n",
    "print(f'Среднее значение предсказанных запасов в 1 регионе: {mean_predict_valid_0}, RMSE: {rmse_0}, R2: {r2_0}')\n",
    "print(f'Среднее значение предсказанных запасов в 2 регионе: {mean_predict_valid_1}, RMSE: {rmse_1}, R2: {r2_1}')\n",
    "print(f'Среднее значение предсказанных запасов в 3 регионе: {mean_predict_valid_2}, RMSE: {rmse_2}, R2: {r2_2}')"
   ]
  },
  {
   "cell_type": "code",
   "execution_count": 27,
   "metadata": {},
   "outputs": [
    {
     "name": "stdout",
     "output_type": "stream",
     "text": [
      "Истинные средние валидационной выборки: \n",
      " 1: 92.22389862083566, \n",
      " 2: 68.86939132980969, \n",
      " 3: 94.74299913039822\n"
     ]
    }
   ],
   "source": [
    "print(f'Истинные средние валидационной выборки: \\n 1: {target_valid_0.mean()}, \\n 2: {target_valid_1.mean()}, \\n \\\n",
    "3: {target_valid_2.mean()}')"
   ]
  },
  {
   "cell_type": "markdown",
   "metadata": {},
   "source": [
    "Мы обучили три модели и в качестве оценки их качества можно сказать, что нет моделей с отрицательной R2-метрикой, значит, все будут выполнять задачу, однако, для 1 и 3 региона значение ближе к 0, чем к 1, поэтому есть вероятность, что они будут хуже справляться с незнакомыми данными. А вот модель для 2 региона показывает результат, близкий к идеальному.\n",
    "\n",
    "В сравнении предсказанных средних значений и истинных мы получили примерно одинаковые результаты."
   ]
  },
  {
   "cell_type": "markdown",
   "metadata": {},
   "source": [
    "## Подготовка к расчёту прибыли"
   ]
  },
  {
   "cell_type": "markdown",
   "metadata": {},
   "source": [
    "Сейчас нам нужно рассчитать объем сырья, который нужен для безубыточной разработки. Общий бюджет на разработку скважин составляет **10 млрд рублей**, а доход с каждой единицы сырья равен **450 тыс. рублей**. В каждом регионе исследуются **500** точек, а по итогу выбираются **200**."
   ]
  },
  {
   "cell_type": "code",
   "execution_count": 28,
   "metadata": {},
   "outputs": [
    {
     "name": "stdout",
     "output_type": "stream",
     "text": [
      "На каждую скважину может потребоваться не менее 50000000.0 руб.\n"
     ]
    }
   ],
   "source": [
    "total_budget = 10000000000\n",
    "unit_revenue = 450000\n",
    "unit_count = 200\n",
    "min_dev_cost = total_budget / unit_count\n",
    "print(f'На каждую скважину может потребоваться не менее {min_dev_cost} руб.')"
   ]
  },
  {
   "cell_type": "markdown",
   "metadata": {},
   "source": [
    "Если потратить весь бюджет, то каждая скважина потребует **50 млн. руб.**. Чтобы не остаться в убытке, каждая скважина должна иметь в наличии объем сырья как минимум окупающий разработку. "
   ]
  },
  {
   "cell_type": "code",
   "execution_count": 29,
   "metadata": {},
   "outputs": [
    {
     "name": "stdout",
     "output_type": "stream",
     "text": [
      "111.111\n"
     ]
    }
   ],
   "source": [
    "# посчитаем, сколько нужно сырья, чтобы выйти в ноль, и округлим в большую сторону\n",
    "raw_material_volume = min_dev_cost / unit_revenue\n",
    "print(f'{raw_material_volume:.{3}f}')"
   ]
  },
  {
   "cell_type": "code",
   "execution_count": 30,
   "metadata": {},
   "outputs": [
    {
     "name": "stdout",
     "output_type": "stream",
     "text": [
      "92.50000000000001\n",
      "68.82500000000002\n",
      "95.00000000000004\n"
     ]
    }
   ],
   "source": [
    "# истинные средние значения единиц сырья по всем данным\n",
    "print(data_0['product'].mean())\n",
    "print(data_1['product'].mean())\n",
    "print(data_2['product'].mean())"
   ]
  },
  {
   "cell_type": "markdown",
   "metadata": {},
   "source": [
    "То есть выбранные скважины должны иметь как минимум **111,111 тыс.** баррелей сырья, чтобы не допустить убытков. Или по-другому **22222,2 тыс.** баррелей с региона. Средние значения сырья в каждом регионе не превышают 112 единиц продукта, поэтому на этом этапе безубыточность не гарантируется. Теперь перейдем к самому расчету прибыли и рисков."
   ]
  },
  {
   "cell_type": "markdown",
   "metadata": {},
   "source": [
    "## Расчёт прибыли и рисков "
   ]
  },
  {
   "cell_type": "code",
   "execution_count": 31,
   "metadata": {},
   "outputs": [],
   "source": [
    "# напишем функцию подсчета прибыли по самым лучшим предсказанным значениям\n",
    "def profit_calculation(pred_values, target_values):\n",
    "    '''Функция принимает предсказанные и истинные значения,\n",
    "    после чего берет 200 лучших предсказанных и находит\n",
    "    сумму истинных значений выбранных скважин\n",
    "    и вычисляет валовую прибыль'''\n",
    "    y_true = target_values.reset_index(drop=True)\n",
    "    pred_sum = pd.Series(pred_values).sort_values(ascending=False)[:200].index\n",
    "    all_sum = y_true.iloc[pred_sum].sum()\n",
    "    return all_sum * unit_revenue - total_budget"
   ]
  },
  {
   "cell_type": "code",
   "execution_count": 32,
   "metadata": {},
   "outputs": [
    {
     "name": "stdout",
     "output_type": "stream",
     "text": [
      "Прогнозируемая валовая прибыль для 1 региона: 3.175 млрд.\n",
      "Прогнозируемая валовая прибыль для 2 региона: 2.415 млрд.\n",
      "Прогнозируемая валовая прибыль для 3 региона: 2.247 млрд.\n"
     ]
    }
   ],
   "source": [
    "profit_0 = profit_calculation(predicted_valid_0, target_valid_0)\n",
    "profit_1 = profit_calculation(predicted_valid_1, target_valid_1)\n",
    "profit_2 = profit_calculation(predicted_valid_2, target_valid_2)\n",
    "print(f'Прогнозируемая валовая прибыль для 1 региона: {profit_0 / 1000000000:.{3}f} млрд.')\n",
    "print(f'Прогнозируемая валовая прибыль для 2 региона: {profit_1 / 1000000000:.{3}f} млрд.')\n",
    "print(f'Прогнозируемая валовая прибыль для 3 региона: {profit_2 / 1000000000:.{3}f} млрд.')"
   ]
  },
  {
   "cell_type": "markdown",
   "metadata": {},
   "source": [
    "На этом этапе мы видим, что по прогнозу больше всего прибыли может принести первый регион, но R2-метрика модели предсказания для этого региона была не самой высокой. Меньше всего прибыли прогнозируется в 3 регионе. Ситуация неопределенная, поэтому нам стоит оценить риски и выбрать тот регион или регионы, где вероятность убытков будет меньше 2,5%. Для этого используем bootstrap."
   ]
  },
  {
   "cell_type": "code",
   "execution_count": 33,
   "metadata": {},
   "outputs": [],
   "source": [
    "# подготовим экземпляр RandomState, чтобы не получать одинаковые выборки\n",
    "state = RandomState(RANDOM_STATE)"
   ]
  },
  {
   "cell_type": "code",
   "execution_count": 34,
   "metadata": {},
   "outputs": [],
   "source": [
    "# сбросим индексы для target значений\n",
    "target_valid_0 = target_valid_0.reset_index(drop=True)\n",
    "target_valid_1 = target_valid_1.reset_index(drop=True)\n",
    "target_valid_2 = target_valid_2.reset_index(drop=True)"
   ]
  },
  {
   "cell_type": "code",
   "execution_count": 35,
   "metadata": {},
   "outputs": [],
   "source": [
    "# опишем функцию для получения прибыли в случайных выборках\n",
    "def get_better_wells(target, predict, count):\n",
    "    predict_sorted = predict.sort_values(ascending=False)\n",
    "    selected_well = target[predict_sorted.index][:count]\n",
    "    return selected_well.sum() * unit_revenue - total_budget"
   ]
  },
  {
   "cell_type": "code",
   "execution_count": 37,
   "metadata": {},
   "outputs": [],
   "source": [
    "# опишем функцию для бутстрепа моделей\n",
    "def bootstrap(target, predict, count):\n",
    "    values = []\n",
    "    for i in range(1000):\n",
    "        target_subsample = target.sample(n=500, replace=True, random_state=state)\n",
    "        predict_subsample = predict[target_subsample.index] \n",
    "        target_subsample = target_subsample.reset_index(drop=True)\n",
    "        predict_subsample = pd.Series(predict_subsample).reset_index(drop=True)\n",
    "        values.append(get_better_wells(target_subsample, predict_subsample, count))\n",
    "    return pd.Series(values)"
   ]
  },
  {
   "cell_type": "code",
   "execution_count": 39,
   "metadata": {},
   "outputs": [],
   "source": [
    "values_0 = bootstrap(target_valid_0, predicted_valid_0, unit_count)\n",
    "values_1 = bootstrap(target_valid_1, predicted_valid_1, unit_count)\n",
    "values_2 = bootstrap(target_valid_2, predicted_valid_2, unit_count)"
   ]
  },
  {
   "cell_type": "code",
   "execution_count": 40,
   "metadata": {},
   "outputs": [],
   "source": [
    "def evaulate_results(values):\n",
    "    '''Функция вычисляет среднюю прибыль всего региона по данным бутстрепа,\n",
    "    а также 95% доверительный интервал и процент убытков,\n",
    "    где прибыль оказывается ниже затраченного бюджета'''\n",
    "    mean_revenue = values.mean()\n",
    "    \n",
    "    quan_025 = values.quantile(0.025)\n",
    "    quan_975 = values.quantile(0.975)\n",
    "    \n",
    "    count_loss = 0\n",
    "    for i in values:\n",
    "        if i < 0:\n",
    "            count_loss += 1\n",
    "    loss_rate = count_loss / len(values)\n",
    "    \n",
    "    return mean_revenue, quan_025, quan_975, loss_rate * 100"
   ]
  },
  {
   "cell_type": "code",
   "execution_count": 41,
   "metadata": {},
   "outputs": [
    {
     "name": "stdout",
     "output_type": "stream",
     "text": [
      "Средняя прибыль в регионе 1: 415255763.88382435\n",
      "Доверительный 95% интервал: (-83112805.57303919, 913061073.7819686)\n",
      "Доля убытков: 5.8999999999999995%\n",
      "\n",
      "Средняя прибыль в регионе 2: 464016698.60296035\n",
      "Доверительный 95% интервал: (68063072.54372741, 874460584.3922478)\n",
      "Доля убытков: 0.7000000000000001%\n",
      "\n",
      "Средняя прибыль в регионе 3: 345530834.51330787\n",
      "Доверительный 95% интервал: (-195560548.72156453, 882333753.9569058)\n",
      "Доля убытков: 10.6%\n",
      "\n"
     ]
    }
   ],
   "source": [
    "for i, name in enumerate([values_0, values_1, values_2]):\n",
    "    mean, quan_025, quan_975, rate = evaulate_results(name)\n",
    "    print(f'Средняя прибыль в регионе {i + 1}: {mean}')\n",
    "    print(f'Доверительный 95% интервал: ({quan_025}, {quan_975})')\n",
    "    print(f'Доля убытков: {rate}%')\n",
    "    print('')"
   ]
  },
  {
   "cell_type": "markdown",
   "metadata": {},
   "source": [
    "В итоге мы получаем, что только второй регион имеет меньше 2,5% убытков, а также самую большую предполагаемую среднюю прибыль. Дополнительно покажем это на боксплотах ниже."
   ]
  },
  {
   "cell_type": "code",
   "execution_count": 42,
   "metadata": {},
   "outputs": [
    {
     "data": {
      "text/plain": [
       "<AxesSubplot:>"
      ]
     },
     "execution_count": 42,
     "metadata": {},
     "output_type": "execute_result"
    },
    {
     "data": {
      "image/png": "[encoded data removed]",
      "text/plain": [
       "<Figure size 1296x720 with 1 Axes>"
      ]
     },
     "metadata": {},
     "output_type": "display_data"
    }
   ],
   "source": [
    "concat_data = pd.concat([values_0, values_1, values_2], axis=1)\n",
    "sns.set(rc={\"figure.figsize\":(18,10)}) \n",
    "sns.boxplot(data=concat_data, orient='h', whis=[2.5, 97.5])"
   ]
  },
  {
   "cell_type": "markdown",
   "metadata": {},
   "source": [
    "## Вывод"
   ]
  },
  {
   "cell_type": "markdown",
   "metadata": {},
   "source": [
    "В ходе данного исследования мы изучили данные по трем регионам и построили для каждой модель линейной регрессии. После этого посчитали вероятную прибыль и другие метрики, а после применили бутстреп, чтобы минимизировать влияние случайности. Для этого для каждого региона взяли по 1000 случайных выборок по 500 месторождений, из которых взяли 200 самых перспективных. \n",
    "\n",
    "После этого рассчитали уже по этим данным среднюю прибыль и доверительный интервал. Нам нужно было, чтобы доля убытков была меньше 2,5%, что удалось обнаружить только для второго региона. Также у второго региона больше средняя прибыль по выборкам, а также метрика R2 для модели линейной регрессии почти близка к идеальной в отличии от моделей других регионов. Это значит, что эта модель с большей вероятностью допустит меньшее расхождение прогнозов от истинных значений. Рекомендую в первую очередь рассматривать второй регион для разработки скважин."
   ]
  },
  {
   "cell_type": "code",
   "execution_count": null,
   "metadata": {},
   "outputs": [],
   "source": []
  }
 ],
 "metadata": {
  "ExecuteTimeLog": [
   {
    "duration": 1161,
    "start_time": "2023-02-17T09:31:15.793Z"
   },
   {
    "duration": 1507,
    "start_time": "2023-02-17T09:31:16.956Z"
   },
   {
    "duration": 15,
    "start_time": "2023-02-17T09:31:18.465Z"
   },
   {
    "duration": 15,
    "start_time": "2023-02-17T09:31:18.482Z"
   },
   {
    "duration": 30,
    "start_time": "2023-02-17T09:31:18.499Z"
   },
   {
    "duration": 25,
    "start_time": "2023-02-17T09:31:18.532Z"
   },
   {
    "duration": 14,
    "start_time": "2023-02-17T09:31:18.558Z"
   },
   {
    "duration": 14,
    "start_time": "2023-02-17T09:31:18.574Z"
   },
   {
    "duration": 123,
    "start_time": "2023-02-17T09:31:18.590Z"
   },
   {
    "duration": 11,
    "start_time": "2023-02-17T09:31:18.715Z"
   },
   {
    "duration": 3,
    "start_time": "2023-02-17T09:31:18.727Z"
   },
   {
    "duration": 6,
    "start_time": "2023-02-17T09:31:18.731Z"
   },
   {
    "duration": 12,
    "start_time": "2023-02-17T09:31:18.738Z"
   },
   {
    "duration": 52,
    "start_time": "2023-02-17T09:31:18.752Z"
   },
   {
    "duration": 4,
    "start_time": "2023-02-17T09:31:18.806Z"
   },
   {
    "duration": 7,
    "start_time": "2023-02-17T09:31:18.811Z"
   },
   {
    "duration": 7,
    "start_time": "2023-02-17T09:31:18.820Z"
   },
   {
    "duration": 38,
    "start_time": "2023-02-17T09:31:18.829Z"
   },
   {
    "duration": 8,
    "start_time": "2023-02-17T09:31:18.869Z"
   },
   {
    "duration": 13,
    "start_time": "2023-02-17T09:31:18.879Z"
   },
   {
    "duration": 7,
    "start_time": "2023-02-17T09:31:18.894Z"
   },
   {
    "duration": 193,
    "start_time": "2023-02-17T09:31:18.903Z"
   },
   {
    "duration": 5,
    "start_time": "2023-02-17T09:31:19.098Z"
   },
   {
    "duration": 102,
    "start_time": "2023-02-17T09:31:19.105Z"
   },
   {
    "duration": 94,
    "start_time": "2023-02-17T09:31:19.209Z"
   },
   {
    "duration": 5,
    "start_time": "2023-02-17T09:31:19.306Z"
   },
   {
    "duration": 19,
    "start_time": "2023-02-17T09:31:19.312Z"
   },
   {
    "duration": 3,
    "start_time": "2023-02-17T09:31:19.332Z"
   },
   {
    "duration": 12,
    "start_time": "2023-02-17T09:31:19.336Z"
   },
   {
    "duration": 4,
    "start_time": "2023-02-17T09:31:19.349Z"
   },
   {
    "duration": 7,
    "start_time": "2023-02-17T09:31:19.355Z"
   },
   {
    "duration": 7482,
    "start_time": "2023-02-17T09:31:19.364Z"
   },
   {
    "duration": 4,
    "start_time": "2023-02-17T09:31:26.848Z"
   },
   {
    "duration": 15,
    "start_time": "2023-02-17T09:31:26.853Z"
   },
   {
    "duration": 1128,
    "start_time": "2023-02-17T09:31:34.460Z"
   },
   {
    "duration": 365,
    "start_time": "2023-02-17T09:31:35.590Z"
   },
   {
    "duration": 16,
    "start_time": "2023-02-17T09:31:35.956Z"
   },
   {
    "duration": 29,
    "start_time": "2023-02-17T09:31:35.974Z"
   },
   {
    "duration": 17,
    "start_time": "2023-02-17T09:31:36.006Z"
   },
   {
    "duration": 17,
    "start_time": "2023-02-17T09:31:36.025Z"
   },
   {
    "duration": 15,
    "start_time": "2023-02-17T09:31:36.043Z"
   },
   {
    "duration": 16,
    "start_time": "2023-02-17T09:31:36.060Z"
   },
   {
    "duration": 136,
    "start_time": "2023-02-17T09:31:36.091Z"
   },
   {
    "duration": 11,
    "start_time": "2023-02-17T09:31:36.230Z"
   },
   {
    "duration": 3,
    "start_time": "2023-02-17T09:31:36.243Z"
   },
   {
    "duration": 9,
    "start_time": "2023-02-17T09:31:36.248Z"
   },
   {
    "duration": 21,
    "start_time": "2023-02-17T09:31:36.258Z"
   },
   {
    "duration": 38,
    "start_time": "2023-02-17T09:31:36.291Z"
   },
   {
    "duration": 6,
    "start_time": "2023-02-17T09:31:36.331Z"
   },
   {
    "duration": 8,
    "start_time": "2023-02-17T09:31:36.340Z"
   },
   {
    "duration": 16,
    "start_time": "2023-02-17T09:31:36.351Z"
   },
   {
    "duration": 51,
    "start_time": "2023-02-17T09:31:36.370Z"
   },
   {
    "duration": 9,
    "start_time": "2023-02-17T09:31:36.423Z"
   },
   {
    "duration": 25,
    "start_time": "2023-02-17T09:31:36.434Z"
   },
   {
    "duration": 14,
    "start_time": "2023-02-17T09:31:36.462Z"
   },
   {
    "duration": 122,
    "start_time": "2023-02-17T09:31:36.479Z"
   },
   {
    "duration": 91,
    "start_time": "2023-02-17T09:31:36.603Z"
   },
   {
    "duration": 113,
    "start_time": "2023-02-17T09:31:36.697Z"
   },
   {
    "duration": 10,
    "start_time": "2023-02-17T09:31:36.812Z"
   },
   {
    "duration": 11,
    "start_time": "2023-02-17T09:31:36.824Z"
   },
   {
    "duration": 22,
    "start_time": "2023-02-17T09:31:36.837Z"
   },
   {
    "duration": 5,
    "start_time": "2023-02-17T09:31:36.862Z"
   },
   {
    "duration": 9,
    "start_time": "2023-02-17T09:31:36.868Z"
   },
   {
    "duration": 6,
    "start_time": "2023-02-17T09:31:36.879Z"
   },
   {
    "duration": 14,
    "start_time": "2023-02-17T09:31:36.886Z"
   },
   {
    "duration": 5245,
    "start_time": "2023-02-17T09:31:36.901Z"
   },
   {
    "duration": 4,
    "start_time": "2023-02-17T09:31:42.148Z"
   },
   {
    "duration": 15,
    "start_time": "2023-02-17T09:31:42.153Z"
   },
   {
    "duration": 5,
    "start_time": "2023-02-17T09:32:38.517Z"
   },
   {
    "duration": 6361,
    "start_time": "2023-02-17T09:32:39.265Z"
   },
   {
    "duration": 5,
    "start_time": "2023-02-17T09:32:45.628Z"
   },
   {
    "duration": 6834,
    "start_time": "2023-02-17T09:32:46.013Z"
   },
   {
    "duration": 8,
    "start_time": "2023-02-17T09:35:58.097Z"
   },
   {
    "duration": 1100,
    "start_time": "2023-02-17T09:36:27.024Z"
   },
   {
    "duration": 387,
    "start_time": "2023-02-17T09:36:28.127Z"
   },
   {
    "duration": 18,
    "start_time": "2023-02-17T09:36:28.516Z"
   },
   {
    "duration": 15,
    "start_time": "2023-02-17T09:36:28.536Z"
   },
   {
    "duration": 11,
    "start_time": "2023-02-17T09:36:28.553Z"
   },
   {
    "duration": 37,
    "start_time": "2023-02-17T09:36:28.565Z"
   },
   {
    "duration": 14,
    "start_time": "2023-02-17T09:36:28.604Z"
   },
   {
    "duration": 13,
    "start_time": "2023-02-17T09:36:28.620Z"
   },
   {
    "duration": 150,
    "start_time": "2023-02-17T09:36:28.635Z"
   },
   {
    "duration": 11,
    "start_time": "2023-02-17T09:36:28.791Z"
   },
   {
    "duration": 2,
    "start_time": "2023-02-17T09:36:28.804Z"
   },
   {
    "duration": 5,
    "start_time": "2023-02-17T09:36:28.808Z"
   },
   {
    "duration": 10,
    "start_time": "2023-02-17T09:36:28.815Z"
   },
   {
    "duration": 33,
    "start_time": "2023-02-17T09:36:28.828Z"
   },
   {
    "duration": 4,
    "start_time": "2023-02-17T09:36:28.891Z"
   },
   {
    "duration": 6,
    "start_time": "2023-02-17T09:36:28.896Z"
   },
   {
    "duration": 8,
    "start_time": "2023-02-17T09:36:28.904Z"
   },
   {
    "duration": 40,
    "start_time": "2023-02-17T09:36:28.914Z"
   },
   {
    "duration": 8,
    "start_time": "2023-02-17T09:36:28.955Z"
   },
   {
    "duration": 12,
    "start_time": "2023-02-17T09:36:28.965Z"
   },
   {
    "duration": 14,
    "start_time": "2023-02-17T09:36:28.979Z"
   },
   {
    "duration": 204,
    "start_time": "2023-02-17T09:36:28.995Z"
   },
   {
    "duration": 92,
    "start_time": "2023-02-17T09:36:29.201Z"
   },
   {
    "duration": 103,
    "start_time": "2023-02-17T09:36:29.295Z"
   },
   {
    "duration": 9,
    "start_time": "2023-02-17T09:36:29.400Z"
   },
   {
    "duration": 14,
    "start_time": "2023-02-17T09:36:29.410Z"
   },
   {
    "duration": 16,
    "start_time": "2023-02-17T09:36:29.426Z"
   },
   {
    "duration": 3,
    "start_time": "2023-02-17T09:36:29.444Z"
   },
   {
    "duration": 7,
    "start_time": "2023-02-17T09:36:29.449Z"
   },
   {
    "duration": 6,
    "start_time": "2023-02-17T09:36:29.458Z"
   },
   {
    "duration": 7,
    "start_time": "2023-02-17T09:36:29.465Z"
   },
   {
    "duration": 28,
    "start_time": "2023-02-17T09:36:29.474Z"
   },
   {
    "duration": 4865,
    "start_time": "2023-02-17T09:36:29.504Z"
   },
   {
    "duration": 4,
    "start_time": "2023-02-17T09:36:34.371Z"
   },
   {
    "duration": 11,
    "start_time": "2023-02-17T09:36:34.391Z"
   },
   {
    "duration": 1127,
    "start_time": "2023-02-17T09:36:41.367Z"
   },
   {
    "duration": 371,
    "start_time": "2023-02-17T09:36:42.497Z"
   },
   {
    "duration": 21,
    "start_time": "2023-02-17T09:36:42.870Z"
   },
   {
    "duration": 9,
    "start_time": "2023-02-17T09:36:42.893Z"
   },
   {
    "duration": 16,
    "start_time": "2023-02-17T09:36:42.905Z"
   },
   {
    "duration": 19,
    "start_time": "2023-02-17T09:36:42.922Z"
   },
   {
    "duration": 14,
    "start_time": "2023-02-17T09:36:42.943Z"
   },
   {
    "duration": 41,
    "start_time": "2023-02-17T09:36:42.958Z"
   },
   {
    "duration": 126,
    "start_time": "2023-02-17T09:36:43.001Z"
   },
   {
    "duration": 14,
    "start_time": "2023-02-17T09:36:43.128Z"
   },
   {
    "duration": 5,
    "start_time": "2023-02-17T09:36:43.144Z"
   },
   {
    "duration": 15,
    "start_time": "2023-02-17T09:36:43.151Z"
   },
   {
    "duration": 23,
    "start_time": "2023-02-17T09:36:43.168Z"
   },
   {
    "duration": 35,
    "start_time": "2023-02-17T09:36:43.196Z"
   },
   {
    "duration": 3,
    "start_time": "2023-02-17T09:36:43.233Z"
   },
   {
    "duration": 5,
    "start_time": "2023-02-17T09:36:43.238Z"
   },
   {
    "duration": 6,
    "start_time": "2023-02-17T09:36:43.245Z"
   },
   {
    "duration": 46,
    "start_time": "2023-02-17T09:36:43.252Z"
   },
   {
    "duration": 7,
    "start_time": "2023-02-17T09:36:43.300Z"
   },
   {
    "duration": 5,
    "start_time": "2023-02-17T09:36:43.308Z"
   },
   {
    "duration": 5,
    "start_time": "2023-02-17T09:36:43.315Z"
   },
   {
    "duration": 181,
    "start_time": "2023-02-17T09:36:43.322Z"
   },
   {
    "duration": 5,
    "start_time": "2023-02-17T09:36:43.593Z"
   },
   {
    "duration": 94,
    "start_time": "2023-02-17T09:36:43.599Z"
   },
   {
    "duration": 9,
    "start_time": "2023-02-17T09:36:43.695Z"
   },
   {
    "duration": 6,
    "start_time": "2023-02-17T09:36:43.705Z"
   },
   {
    "duration": 16,
    "start_time": "2023-02-17T09:36:43.713Z"
   },
   {
    "duration": 2,
    "start_time": "2023-02-17T09:36:43.731Z"
   },
   {
    "duration": 7,
    "start_time": "2023-02-17T09:36:43.735Z"
   },
   {
    "duration": 5,
    "start_time": "2023-02-17T09:36:43.744Z"
   },
   {
    "duration": 6,
    "start_time": "2023-02-17T09:36:43.751Z"
   },
   {
    "duration": 11,
    "start_time": "2023-02-17T09:36:43.758Z"
   },
   {
    "duration": 2828,
    "start_time": "2023-02-17T09:36:43.771Z"
   },
   {
    "duration": 4,
    "start_time": "2023-02-17T09:36:46.600Z"
   },
   {
    "duration": 31,
    "start_time": "2023-02-17T09:36:46.606Z"
   },
   {
    "duration": 1075,
    "start_time": "2023-02-18T03:49:51.509Z"
   },
   {
    "duration": 69,
    "start_time": "2023-02-18T03:53:58.190Z"
   },
   {
    "duration": 106,
    "start_time": "2023-02-18T03:54:59.865Z"
   },
   {
    "duration": 1472,
    "start_time": "2023-02-18T03:55:07.584Z"
   },
   {
    "duration": 14,
    "start_time": "2023-02-18T03:55:09.058Z"
   },
   {
    "duration": 10,
    "start_time": "2023-02-18T03:55:09.809Z"
   },
   {
    "duration": 9,
    "start_time": "2023-02-18T03:55:10.776Z"
   },
   {
    "duration": 14,
    "start_time": "2023-02-18T03:55:12.448Z"
   },
   {
    "duration": 14,
    "start_time": "2023-02-18T03:55:13.376Z"
   },
   {
    "duration": 14,
    "start_time": "2023-02-18T03:55:13.969Z"
   },
   {
    "duration": 129,
    "start_time": "2023-02-18T03:55:15.233Z"
   },
   {
    "duration": 1208,
    "start_time": "2023-02-18T03:55:17.735Z"
   },
   {
    "duration": 12,
    "start_time": "2023-02-18T03:55:43.275Z"
   },
   {
    "duration": 12,
    "start_time": "2023-02-18T03:56:32.300Z"
   },
   {
    "duration": 12,
    "start_time": "2023-02-18T03:56:35.731Z"
   },
   {
    "duration": 82,
    "start_time": "2023-02-18T03:59:40.371Z"
   },
   {
    "duration": 8,
    "start_time": "2023-02-18T04:07:46.271Z"
   },
   {
    "duration": 11,
    "start_time": "2023-02-18T04:07:55.219Z"
   },
   {
    "duration": 2,
    "start_time": "2023-02-18T04:07:57.331Z"
   },
   {
    "duration": 3,
    "start_time": "2023-02-18T04:07:59.266Z"
   },
   {
    "duration": 7,
    "start_time": "2023-02-18T04:08:00.970Z"
   },
   {
    "duration": 31,
    "start_time": "2023-02-18T04:08:01.907Z"
   },
   {
    "duration": 4,
    "start_time": "2023-02-18T04:08:02.666Z"
   },
   {
    "duration": 3,
    "start_time": "2023-02-18T04:08:03.610Z"
   },
   {
    "duration": 3,
    "start_time": "2023-02-18T04:08:04.049Z"
   },
   {
    "duration": 32,
    "start_time": "2023-02-18T04:08:04.635Z"
   },
   {
    "duration": 7,
    "start_time": "2023-02-18T04:08:05.041Z"
   },
   {
    "duration": 3,
    "start_time": "2023-02-18T04:08:07.514Z"
   },
   {
    "duration": 4,
    "start_time": "2023-02-18T04:08:08.026Z"
   },
   {
    "duration": 123,
    "start_time": "2023-02-18T04:08:09.571Z"
   },
   {
    "duration": 4,
    "start_time": "2023-02-18T04:08:10.483Z"
   },
   {
    "duration": 4,
    "start_time": "2023-02-18T04:08:12.608Z"
   },
   {
    "duration": 5,
    "start_time": "2023-02-18T04:09:32.277Z"
   },
   {
    "duration": 5,
    "start_time": "2023-02-18T04:12:47.244Z"
   },
   {
    "duration": 5,
    "start_time": "2023-02-18T04:12:56.668Z"
   },
   {
    "duration": 5,
    "start_time": "2023-02-18T04:13:00.621Z"
   },
   {
    "duration": 4,
    "start_time": "2023-02-18T04:13:31.262Z"
   },
   {
    "duration": 4,
    "start_time": "2023-02-18T04:13:36.237Z"
   },
   {
    "duration": 4,
    "start_time": "2023-02-18T04:13:47.846Z"
   },
   {
    "duration": 4,
    "start_time": "2023-02-18T04:22:01.989Z"
   },
   {
    "duration": 4,
    "start_time": "2023-02-18T04:26:09.097Z"
   },
   {
    "duration": 3,
    "start_time": "2023-02-18T04:26:10.617Z"
   },
   {
    "duration": 4,
    "start_time": "2023-02-18T04:27:17.746Z"
   },
   {
    "duration": 66,
    "start_time": "2023-02-18T04:28:03.844Z"
   },
   {
    "duration": 4,
    "start_time": "2023-02-18T04:28:25.265Z"
   },
   {
    "duration": 5,
    "start_time": "2023-02-18T04:28:45.702Z"
   },
   {
    "duration": 6,
    "start_time": "2023-02-18T04:31:13.485Z"
   },
   {
    "duration": 5,
    "start_time": "2023-02-18T04:31:19.196Z"
   },
   {
    "duration": 6,
    "start_time": "2023-02-18T04:31:28.244Z"
   },
   {
    "duration": 84,
    "start_time": "2023-02-18T04:33:17.839Z"
   },
   {
    "duration": 10,
    "start_time": "2023-02-18T04:38:30.059Z"
   },
   {
    "duration": 6,
    "start_time": "2023-02-18T04:38:36.526Z"
   },
   {
    "duration": 6,
    "start_time": "2023-02-18T04:38:57.613Z"
   },
   {
    "duration": 5,
    "start_time": "2023-02-18T04:39:09.573Z"
   },
   {
    "duration": 8,
    "start_time": "2023-02-18T04:39:32.078Z"
   },
   {
    "duration": 8,
    "start_time": "2023-02-18T04:43:22.446Z"
   },
   {
    "duration": 6,
    "start_time": "2023-02-18T04:45:33.103Z"
   },
   {
    "duration": 10,
    "start_time": "2023-02-18T04:45:55.387Z"
   },
   {
    "duration": 5,
    "start_time": "2023-02-18T04:46:03.412Z"
   },
   {
    "duration": 5,
    "start_time": "2023-02-18T04:46:11.628Z"
   },
   {
    "duration": 15,
    "start_time": "2023-02-18T04:46:37.757Z"
   },
   {
    "duration": 4,
    "start_time": "2023-02-18T04:49:25.728Z"
   },
   {
    "duration": 15,
    "start_time": "2023-02-18T04:49:26.514Z"
   },
   {
    "duration": 86,
    "start_time": "2023-02-18T04:50:06.692Z"
   },
   {
    "duration": 4,
    "start_time": "2023-02-18T05:00:12.359Z"
   },
   {
    "duration": 4,
    "start_time": "2023-02-18T05:00:46.234Z"
   },
   {
    "duration": 4,
    "start_time": "2023-02-18T05:00:59.963Z"
   },
   {
    "duration": 13,
    "start_time": "2023-02-18T05:01:05.963Z"
   },
   {
    "duration": 3,
    "start_time": "2023-02-18T05:01:12.659Z"
   },
   {
    "duration": 4,
    "start_time": "2023-02-18T05:01:13.043Z"
   },
   {
    "duration": 4,
    "start_time": "2023-02-18T05:01:13.466Z"
   },
   {
    "duration": 4,
    "start_time": "2023-02-18T05:01:15.234Z"
   },
   {
    "duration": 3203,
    "start_time": "2023-02-18T05:01:17.971Z"
   },
   {
    "duration": 3101,
    "start_time": "2023-02-18T05:01:28.643Z"
   },
   {
    "duration": 3061,
    "start_time": "2023-02-18T05:02:32.838Z"
   },
   {
    "duration": 6,
    "start_time": "2023-02-18T05:05:32.972Z"
   },
   {
    "duration": 16,
    "start_time": "2023-02-18T05:05:34.885Z"
   },
   {
    "duration": 7,
    "start_time": "2023-02-18T05:07:33.888Z"
   },
   {
    "duration": 4,
    "start_time": "2023-02-18T05:08:45.875Z"
   },
   {
    "duration": 4,
    "start_time": "2023-02-18T05:08:48.210Z"
   },
   {
    "duration": 3106,
    "start_time": "2023-02-18T05:08:51.275Z"
   },
   {
    "duration": 10,
    "start_time": "2023-02-18T05:08:54.383Z"
   },
   {
    "duration": 11,
    "start_time": "2023-02-18T05:08:54.395Z"
   },
   {
    "duration": 595,
    "start_time": "2023-02-18T05:11:35.716Z"
   },
   {
    "duration": 175,
    "start_time": "2023-02-18T05:14:05.217Z"
   },
   {
    "duration": 34,
    "start_time": "2023-02-18T05:15:20.227Z"
   },
   {
    "duration": 3259,
    "start_time": "2023-02-18T05:15:40.457Z"
   },
   {
    "duration": 3182,
    "start_time": "2023-02-18T05:15:49.715Z"
   },
   {
    "duration": 11,
    "start_time": "2023-02-18T05:16:00.429Z"
   },
   {
    "duration": 13,
    "start_time": "2023-02-18T05:16:45.824Z"
   },
   {
    "duration": 169,
    "start_time": "2023-02-18T05:17:29.167Z"
   },
   {
    "duration": 9,
    "start_time": "2023-02-18T05:18:49.359Z"
   },
   {
    "duration": 3,
    "start_time": "2023-02-18T05:19:14.529Z"
   },
   {
    "duration": 139,
    "start_time": "2023-02-18T05:19:31.146Z"
   },
   {
    "duration": 213,
    "start_time": "2023-02-18T05:19:37.058Z"
   },
   {
    "duration": 4,
    "start_time": "2023-02-18T05:20:21.251Z"
   },
   {
    "duration": 175,
    "start_time": "2023-02-18T05:24:43.621Z"
   },
   {
    "duration": 206,
    "start_time": "2023-02-18T05:24:52.364Z"
   },
   {
    "duration": 230,
    "start_time": "2023-02-18T05:24:58.964Z"
   },
   {
    "duration": 233,
    "start_time": "2023-02-18T05:30:33.185Z"
   },
   {
    "duration": 67,
    "start_time": "2023-02-18T05:33:55.913Z"
   },
   {
    "duration": 1427,
    "start_time": "2023-02-18T05:34:12.115Z"
   },
   {
    "duration": 381,
    "start_time": "2023-02-18T05:34:13.544Z"
   },
   {
    "duration": 12,
    "start_time": "2023-02-18T05:34:13.927Z"
   },
   {
    "duration": 9,
    "start_time": "2023-02-18T05:34:13.941Z"
   },
   {
    "duration": 12,
    "start_time": "2023-02-18T05:34:13.952Z"
   },
   {
    "duration": 16,
    "start_time": "2023-02-18T05:34:13.966Z"
   },
   {
    "duration": 22,
    "start_time": "2023-02-18T05:34:13.983Z"
   },
   {
    "duration": 17,
    "start_time": "2023-02-18T05:34:14.006Z"
   },
   {
    "duration": 131,
    "start_time": "2023-02-18T05:34:14.024Z"
   },
   {
    "duration": 14,
    "start_time": "2023-02-18T05:34:14.156Z"
   },
   {
    "duration": 27,
    "start_time": "2023-02-18T05:34:14.172Z"
   },
   {
    "duration": 12,
    "start_time": "2023-02-18T05:34:14.202Z"
   },
   {
    "duration": 12,
    "start_time": "2023-02-18T05:34:14.215Z"
   },
   {
    "duration": 3,
    "start_time": "2023-02-18T05:34:14.230Z"
   },
   {
    "duration": 5,
    "start_time": "2023-02-18T05:34:14.234Z"
   },
   {
    "duration": 15,
    "start_time": "2023-02-18T05:34:14.241Z"
   },
   {
    "duration": 49,
    "start_time": "2023-02-18T05:34:14.257Z"
   },
   {
    "duration": 5,
    "start_time": "2023-02-18T05:34:14.308Z"
   },
   {
    "duration": 7,
    "start_time": "2023-02-18T05:34:14.314Z"
   },
   {
    "duration": 7,
    "start_time": "2023-02-18T05:34:14.322Z"
   },
   {
    "duration": 29,
    "start_time": "2023-02-18T05:34:14.330Z"
   },
   {
    "duration": 7,
    "start_time": "2023-02-18T05:34:14.361Z"
   },
   {
    "duration": 5,
    "start_time": "2023-02-18T05:34:14.370Z"
   },
   {
    "duration": 31,
    "start_time": "2023-02-18T05:34:14.377Z"
   },
   {
    "duration": 109,
    "start_time": "2023-02-18T05:34:14.410Z"
   },
   {
    "duration": 8,
    "start_time": "2023-02-18T05:34:14.597Z"
   },
   {
    "duration": 107,
    "start_time": "2023-02-18T05:34:14.606Z"
   },
   {
    "duration": 5,
    "start_time": "2023-02-18T05:34:14.715Z"
   },
   {
    "duration": 8,
    "start_time": "2023-02-18T05:34:14.722Z"
   },
   {
    "duration": 12,
    "start_time": "2023-02-18T05:34:14.731Z"
   },
   {
    "duration": 8,
    "start_time": "2023-02-18T05:34:14.745Z"
   },
   {
    "duration": 16,
    "start_time": "2023-02-18T05:34:14.755Z"
   },
   {
    "duration": 3,
    "start_time": "2023-02-18T05:34:14.773Z"
   },
   {
    "duration": 8,
    "start_time": "2023-02-18T05:34:14.778Z"
   },
   {
    "duration": 16,
    "start_time": "2023-02-18T05:34:14.788Z"
   },
   {
    "duration": 8,
    "start_time": "2023-02-18T05:34:14.806Z"
   },
   {
    "duration": 10,
    "start_time": "2023-02-18T05:34:14.815Z"
   },
   {
    "duration": 2938,
    "start_time": "2023-02-18T05:34:14.826Z"
   },
   {
    "duration": 4,
    "start_time": "2023-02-18T05:34:17.765Z"
   },
   {
    "duration": 25,
    "start_time": "2023-02-18T05:34:17.771Z"
   },
   {
    "duration": 4,
    "start_time": "2023-02-18T05:34:17.810Z"
   },
   {
    "duration": 294,
    "start_time": "2023-02-18T05:34:17.816Z"
   },
   {
    "duration": 239,
    "start_time": "2023-02-18T05:38:36.481Z"
   },
   {
    "duration": 1459,
    "start_time": "2023-02-18T05:40:20.825Z"
   },
   {
    "duration": 376,
    "start_time": "2023-02-18T05:40:22.286Z"
   },
   {
    "duration": 13,
    "start_time": "2023-02-18T05:40:22.663Z"
   },
   {
    "duration": 25,
    "start_time": "2023-02-18T05:40:22.678Z"
   },
   {
    "duration": 11,
    "start_time": "2023-02-18T05:40:22.708Z"
   },
   {
    "duration": 19,
    "start_time": "2023-02-18T05:40:22.721Z"
   },
   {
    "duration": 16,
    "start_time": "2023-02-18T05:40:22.742Z"
   },
   {
    "duration": 20,
    "start_time": "2023-02-18T05:40:22.760Z"
   },
   {
    "duration": 125,
    "start_time": "2023-02-18T05:40:22.800Z"
   },
   {
    "duration": 15,
    "start_time": "2023-02-18T05:40:22.928Z"
   },
   {
    "duration": 12,
    "start_time": "2023-02-18T05:40:22.945Z"
   },
   {
    "duration": 13,
    "start_time": "2023-02-18T05:40:22.958Z"
   },
   {
    "duration": 13,
    "start_time": "2023-02-18T05:40:22.992Z"
   },
   {
    "duration": 10,
    "start_time": "2023-02-18T05:40:23.006Z"
   },
   {
    "duration": 7,
    "start_time": "2023-02-18T05:40:23.018Z"
   },
   {
    "duration": 10,
    "start_time": "2023-02-18T05:40:23.026Z"
   },
   {
    "duration": 33,
    "start_time": "2023-02-18T05:40:23.038Z"
   },
   {
    "duration": 22,
    "start_time": "2023-02-18T05:40:23.073Z"
   },
   {
    "duration": 18,
    "start_time": "2023-02-18T05:40:23.098Z"
   },
   {
    "duration": 11,
    "start_time": "2023-02-18T05:40:23.117Z"
   },
   {
    "duration": 28,
    "start_time": "2023-02-18T05:40:23.130Z"
   },
   {
    "duration": 7,
    "start_time": "2023-02-18T05:40:23.160Z"
   },
   {
    "duration": 5,
    "start_time": "2023-02-18T05:40:23.169Z"
   },
   {
    "duration": 8,
    "start_time": "2023-02-18T05:40:23.175Z"
   },
   {
    "duration": 219,
    "start_time": "2023-02-18T05:40:23.184Z"
   },
   {
    "duration": 6,
    "start_time": "2023-02-18T05:40:23.405Z"
   },
   {
    "duration": 200,
    "start_time": "2023-02-18T05:40:23.413Z"
   },
   {
    "duration": 4,
    "start_time": "2023-02-18T05:40:23.616Z"
   },
   {
    "duration": 6,
    "start_time": "2023-02-18T05:40:23.621Z"
   },
   {
    "duration": 10,
    "start_time": "2023-02-18T05:40:23.628Z"
   },
   {
    "duration": 9,
    "start_time": "2023-02-18T05:40:23.639Z"
   },
   {
    "duration": 20,
    "start_time": "2023-02-18T05:40:23.649Z"
   },
   {
    "duration": 3,
    "start_time": "2023-02-18T05:40:23.670Z"
   },
   {
    "duration": 34,
    "start_time": "2023-02-18T05:40:23.675Z"
   },
   {
    "duration": 5,
    "start_time": "2023-02-18T05:40:23.711Z"
   },
   {
    "duration": 9,
    "start_time": "2023-02-18T05:40:23.717Z"
   },
   {
    "duration": 9,
    "start_time": "2023-02-18T05:40:23.728Z"
   },
   {
    "duration": 3084,
    "start_time": "2023-02-18T05:40:23.738Z"
   },
   {
    "duration": 4,
    "start_time": "2023-02-18T05:40:26.824Z"
   },
   {
    "duration": 14,
    "start_time": "2023-02-18T05:40:26.830Z"
   },
   {
    "duration": 264,
    "start_time": "2023-02-18T05:40:26.846Z"
   },
   {
    "duration": 227,
    "start_time": "2023-02-18T05:42:03.336Z"
   },
   {
    "duration": 1318,
    "start_time": "2023-02-18T05:42:28.630Z"
   },
   {
    "duration": 387,
    "start_time": "2023-02-18T05:42:29.949Z"
   },
   {
    "duration": 14,
    "start_time": "2023-02-18T05:42:30.338Z"
   },
   {
    "duration": 25,
    "start_time": "2023-02-18T05:42:30.354Z"
   },
   {
    "duration": 39,
    "start_time": "2023-02-18T05:42:30.381Z"
   },
   {
    "duration": 53,
    "start_time": "2023-02-18T05:42:30.422Z"
   },
   {
    "duration": 38,
    "start_time": "2023-02-18T05:42:30.478Z"
   },
   {
    "duration": 30,
    "start_time": "2023-02-18T05:42:30.518Z"
   },
   {
    "duration": 135,
    "start_time": "2023-02-18T05:42:30.550Z"
   },
   {
    "duration": 16,
    "start_time": "2023-02-18T05:42:30.694Z"
   },
   {
    "duration": 29,
    "start_time": "2023-02-18T05:42:30.713Z"
   },
   {
    "duration": 22,
    "start_time": "2023-02-18T05:42:30.745Z"
   },
   {
    "duration": 40,
    "start_time": "2023-02-18T05:42:30.769Z"
   },
   {
    "duration": 14,
    "start_time": "2023-02-18T05:42:30.812Z"
   },
   {
    "duration": 43,
    "start_time": "2023-02-18T05:42:30.828Z"
   },
   {
    "duration": 33,
    "start_time": "2023-02-18T05:42:30.873Z"
   },
   {
    "duration": 71,
    "start_time": "2023-02-18T05:42:30.908Z"
   },
   {
    "duration": 4,
    "start_time": "2023-02-18T05:42:30.981Z"
   },
   {
    "duration": 31,
    "start_time": "2023-02-18T05:42:30.987Z"
   },
   {
    "duration": 18,
    "start_time": "2023-02-18T05:42:31.020Z"
   },
   {
    "duration": 42,
    "start_time": "2023-02-18T05:42:31.040Z"
   },
   {
    "duration": 11,
    "start_time": "2023-02-18T05:42:31.084Z"
   },
   {
    "duration": 39,
    "start_time": "2023-02-18T05:42:31.096Z"
   },
   {
    "duration": 22,
    "start_time": "2023-02-18T05:42:31.137Z"
   },
   {
    "duration": 137,
    "start_time": "2023-02-18T05:42:31.161Z"
   },
   {
    "duration": 92,
    "start_time": "2023-02-18T05:42:31.300Z"
   },
   {
    "duration": 99,
    "start_time": "2023-02-18T05:42:31.394Z"
   },
   {
    "duration": 15,
    "start_time": "2023-02-18T05:42:31.497Z"
   },
   {
    "duration": 42,
    "start_time": "2023-02-18T05:42:31.514Z"
   },
   {
    "duration": 55,
    "start_time": "2023-02-18T05:42:31.558Z"
   },
   {
    "duration": 38,
    "start_time": "2023-02-18T05:42:31.615Z"
   },
   {
    "duration": 61,
    "start_time": "2023-02-18T05:42:31.655Z"
   },
   {
    "duration": 8,
    "start_time": "2023-02-18T05:42:31.718Z"
   },
   {
    "duration": 33,
    "start_time": "2023-02-18T05:42:31.728Z"
   },
   {
    "duration": 28,
    "start_time": "2023-02-18T05:42:31.763Z"
   },
   {
    "duration": 19,
    "start_time": "2023-02-18T05:42:31.793Z"
   },
   {
    "duration": 29,
    "start_time": "2023-02-18T05:42:31.814Z"
   },
   {
    "duration": 2947,
    "start_time": "2023-02-18T05:42:31.845Z"
   },
   {
    "duration": 4,
    "start_time": "2023-02-18T05:42:34.793Z"
   },
   {
    "duration": 17,
    "start_time": "2023-02-18T05:42:34.799Z"
   },
   {
    "duration": 345,
    "start_time": "2023-02-18T05:42:34.818Z"
   },
   {
    "duration": 46,
    "start_time": "2023-02-18T21:23:34.847Z"
   },
   {
    "duration": 1407,
    "start_time": "2023-02-18T21:24:12.702Z"
   },
   {
    "duration": 348,
    "start_time": "2023-02-18T21:24:14.111Z"
   },
   {
    "duration": 12,
    "start_time": "2023-02-18T21:24:14.461Z"
   },
   {
    "duration": 15,
    "start_time": "2023-02-18T21:24:14.476Z"
   },
   {
    "duration": 8,
    "start_time": "2023-02-18T21:24:14.493Z"
   },
   {
    "duration": 17,
    "start_time": "2023-02-18T21:24:14.503Z"
   },
   {
    "duration": 13,
    "start_time": "2023-02-18T21:24:14.521Z"
   },
   {
    "duration": 13,
    "start_time": "2023-02-18T21:24:14.535Z"
   },
   {
    "duration": 147,
    "start_time": "2023-02-18T21:24:14.549Z"
   },
   {
    "duration": 14,
    "start_time": "2023-02-18T21:24:14.699Z"
   },
   {
    "duration": 14,
    "start_time": "2023-02-18T21:24:14.715Z"
   },
   {
    "duration": 14,
    "start_time": "2023-02-18T21:24:14.730Z"
   },
   {
    "duration": 10,
    "start_time": "2023-02-18T21:24:14.746Z"
   },
   {
    "duration": 3,
    "start_time": "2023-02-18T21:24:14.791Z"
   },
   {
    "duration": 19,
    "start_time": "2023-02-18T21:24:14.796Z"
   },
   {
    "duration": 12,
    "start_time": "2023-02-18T21:24:14.816Z"
   },
   {
    "duration": 60,
    "start_time": "2023-02-18T21:24:14.829Z"
   },
   {
    "duration": 4,
    "start_time": "2023-02-18T21:24:14.890Z"
   },
   {
    "duration": 16,
    "start_time": "2023-02-18T21:24:14.896Z"
   },
   {
    "duration": 14,
    "start_time": "2023-02-18T21:24:14.913Z"
   },
   {
    "duration": 27,
    "start_time": "2023-02-18T21:24:14.929Z"
   },
   {
    "duration": 8,
    "start_time": "2023-02-18T21:24:14.957Z"
   },
   {
    "duration": 14,
    "start_time": "2023-02-18T21:24:14.967Z"
   },
   {
    "duration": 8,
    "start_time": "2023-02-18T21:24:14.983Z"
   },
   {
    "duration": 201,
    "start_time": "2023-02-18T21:24:14.993Z"
   },
   {
    "duration": 99,
    "start_time": "2023-02-18T21:24:15.196Z"
   },
   {
    "duration": 97,
    "start_time": "2023-02-18T21:24:15.297Z"
   },
   {
    "duration": 5,
    "start_time": "2023-02-18T21:24:15.398Z"
   },
   {
    "duration": 6,
    "start_time": "2023-02-18T21:24:15.404Z"
   },
   {
    "duration": 13,
    "start_time": "2023-02-18T21:24:15.412Z"
   },
   {
    "duration": 5,
    "start_time": "2023-02-18T21:24:15.426Z"
   },
   {
    "duration": 17,
    "start_time": "2023-02-18T21:24:15.432Z"
   },
   {
    "duration": 3,
    "start_time": "2023-02-18T21:24:15.450Z"
   },
   {
    "duration": 37,
    "start_time": "2023-02-18T21:24:15.455Z"
   },
   {
    "duration": 3,
    "start_time": "2023-02-18T21:24:15.494Z"
   },
   {
    "duration": 15,
    "start_time": "2023-02-18T21:24:15.499Z"
   },
   {
    "duration": 4,
    "start_time": "2023-02-18T21:24:15.516Z"
   },
   {
    "duration": 15,
    "start_time": "2023-02-18T21:24:15.521Z"
   },
   {
    "duration": 2948,
    "start_time": "2023-02-18T21:24:15.538Z"
   },
   {
    "duration": 4,
    "start_time": "2023-02-18T21:24:18.489Z"
   },
   {
    "duration": 19,
    "start_time": "2023-02-18T21:24:18.495Z"
   },
   {
    "duration": 244,
    "start_time": "2023-02-18T21:24:18.516Z"
   },
   {
    "duration": 133,
    "start_time": "2023-02-18T21:24:53.191Z"
   },
   {
    "duration": 18,
    "start_time": "2023-02-18T21:25:25.369Z"
   },
   {
    "duration": 18,
    "start_time": "2023-02-18T21:25:42.796Z"
   },
   {
    "duration": 19,
    "start_time": "2023-02-18T21:34:32.082Z"
   }
  ],
  "kernelspec": {
   "display_name": "Python 3 (ipykernel)",
   "language": "python",
   "name": "python3"
  },
  "language_info": {
   "codemirror_mode": {
    "name": "ipython",
    "version": 3
   },
   "file_extension": ".py",
   "mimetype": "text/x-python",
   "name": "python",
   "nbconvert_exporter": "python",
   "pygments_lexer": "ipython3",
   "version": "3.9.13"
  },
  "toc": {
   "base_numbering": 1,
   "nav_menu": {},
   "number_sections": true,
   "sideBar": true,
   "skip_h1_title": true,
   "title_cell": "Table of Contents",
   "title_sidebar": "Contents",
   "toc_cell": false,
   "toc_position": {},
   "toc_section_display": true,
   "toc_window_display": true
  }
 },
 "nbformat": 4,
 "nbformat_minor": 2
}
